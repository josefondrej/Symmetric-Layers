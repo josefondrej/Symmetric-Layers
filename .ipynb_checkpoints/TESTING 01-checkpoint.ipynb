{
 "cells": [
  {
   "cell_type": "markdown",
   "metadata": {},
   "source": [
    "In this notebook we try to define symmetric neural network layer in keras and study it's properties"
   ]
  },
  {
   "cell_type": "code",
   "execution_count": 17,
   "metadata": {},
   "outputs": [],
   "source": [
    "import keras \n",
    "from keras import backend as K \n",
    "from keras.engine.topology import Layer \n",
    "from keras.layers import Dense \n",
    "from keras.models import Sequential \n",
    "\n",
    "import inspect\n",
    "import numpy as np \n",
    "import pandas as pd "
   ]
  },
  {
   "cell_type": "code",
   "execution_count": null,
   "metadata": {},
   "outputs": [],
   "source": [
    "def PermutationInvariant(output_dim, intra_layer_sizes, tuple_dim = 2, reduce_fun = \"mean\"): \n",
    "    \"\"\"\n",
    "    Implements a permutation invariant layer. \n",
    "    \n",
    "    Args:\n",
    "    --\n",
    "    \n",
    "    Returns:\n",
    "    --\n",
    "    \"\"\"\n",
    "    ## TODO "
   ]
  },
  {
   "cell_type": "code",
   "execution_count": 3,
   "metadata": {},
   "outputs": [],
   "source": [
    "class Tuples(Layer):\n",
    "    \"\"\"\n",
    "    Stack of all possible k-tuple combination of inputs. \n",
    "    \"\"\"\n",
    "\n",
    "    def __init__(self, tuple_dim = 2, **kwargs):\n",
    "        self.tuple_dim = tuple_dim\n",
    "        super(PermutationInvariant, self).__init__(**kwargs)\n",
    "       \n",
    "    def create_indices(n, k = 2): \n",
    "        \"\"\"\n",
    "        Creates all integer valued coordinate k-tuples in k dimensional hypercube with edge size n. \n",
    "        for example n = 4, k = 2\n",
    "        returns [[0, 0], [0, 1], [0, 2], [0, 3], \n",
    "                 [1, 0], [1, 1], [1, 2], [1, 3], \n",
    "                 ... \n",
    "                 [3, 0], [3, 1], [3, 2], [3, 3]]\n",
    "\n",
    "        Args:\n",
    "        n -- A `int`, edge size of the hypercube. \n",
    "        k -- A `int`, dimension of the hypercube.\n",
    "\n",
    "        Returns:\n",
    "        indices_n_k -- A `list` of `list` of `int`. Each inner list represents coordinates of one integer point \n",
    "            in the hypercube. \n",
    "        \"\"\"\n",
    "        if k == 0: \n",
    "            indices_n_k = [[]]\n",
    "        else: \n",
    "            indices_n_k_minus_1 = create_indices(n, k-1)\n",
    "            indices_n_k = [[i] + indices_n_k_minus_1[c] for i in range(n) for c in range(n**(k-1))]\n",
    "\n",
    "        return indices_n_k\n",
    "    \n",
    "    def build(self, input_shape):\n",
    "        # Create indexing tuple \n",
    "        self.gathering_indices = create_indices(input_shape[1], self.tuple_dim)\n",
    "        super(Tuples, self).build(input_shape)  # Be sure to call this somewhere!\n",
    "\n",
    "    def call(self, x):\n",
    "        stack_of_tuples = K.map_fn(\n",
    "            fn = lambda z : \n",
    "                K.concatenate(\n",
    "                    [K.reshape(\n",
    "                        K.gather(z, i), \n",
    "                        shape = (1,-1)\n",
    "                     ) \n",
    "                     for i in self.gathering_indices\n",
    "                    ], \n",
    "                    axis = 0\n",
    "                ), \n",
    "            elems = x\n",
    "        )\n",
    "        return stack_of_tuples\n",
    "\n",
    "    def compute_output_shape(self, input_shape):\n",
    "        return (input_shape[0], input_shape[1]**tuple_dim, input_shape[2] * tuple_dim)"
   ]
  },
  {
   "cell_type": "markdown",
   "metadata": {},
   "source": [
    "input je v radcich jednotlive data \n",
    "\n",
    "input_shape[0] x input_shape[1] x input_shape[2] \n",
    "... in\n",
    "\n",
    "sloupce jsou output shape\n",
    "\n",
    "x . W"
   ]
  }
 ],
 "metadata": {
  "kernelspec": {
   "display_name": "Python 3",
   "language": "python",
   "name": "python3"
  },
  "language_info": {
   "codemirror_mode": {
    "name": "ipython",
    "version": 3
   },
   "file_extension": ".py",
   "mimetype": "text/x-python",
   "name": "python",
   "nbconvert_exporter": "python",
   "pygments_lexer": "ipython3",
   "version": "3.6.3"
  }
 },
 "nbformat": 4,
 "nbformat_minor": 2
}
