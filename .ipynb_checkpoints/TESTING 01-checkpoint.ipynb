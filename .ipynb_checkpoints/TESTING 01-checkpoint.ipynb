{
 "cells": [
  {
   "cell_type": "markdown",
   "metadata": {},
   "source": [
    "In this notebook we try to define symmetric neural network layer in keras and study it's properties"
   ]
  },
  {
   "cell_type": "code",
   "execution_count": 2,
   "metadata": {},
   "outputs": [
    {
     "name": "stderr",
     "output_type": "stream",
     "text": [
      "C:\\WinPython-64bit-3.6.3.0Qt5\\python-3.6.3.amd64\\lib\\site-packages\\h5py\\__init__.py:36: FutureWarning: Conversion of the second argument of issubdtype from `float` to `np.floating` is deprecated. In future, it will be treated as `np.float64 == np.dtype(float).type`.\n",
      "  from ._conv import register_converters as _register_converters\n",
      "Using TensorFlow backend.\n"
     ]
    }
   ],
   "source": [
    "import keras \n",
    "from keras import backend as K \n",
    "from keras.engine.topology import Layer \n",
    "from keras.layers import Dense \n",
    "from keras.models import Sequential \n",
    "\n",
    "import numpy as np \n",
    "import pandas as pd "
   ]
  },
  {
   "cell_type": "code",
   "execution_count": 10,
   "metadata": {},
   "outputs": [],
   "source": [
    "## Generate some data\n",
    "x = np.random.randn(4, 11, 7)\n",
    "np.set_printoptions(precision = 3, linewidth = 100)\n",
    "# print(x)"
   ]
  },
  {
   "cell_type": "code",
   "execution_count": null,
   "metadata": {},
   "outputs": [],
   "source": []
  },
  {
   "cell_type": "code",
   "execution_count": 11,
   "metadata": {},
   "outputs": [],
   "source": [
    "## Build the model  \n",
    "model = Sequential() \n",
    "model.add(Dense(4, input_shape = (7,))) \n",
    "model.compile(\"adam\", \"mean_squared_error\") "
   ]
  },
  {
   "cell_type": "code",
   "execution_count": null,
   "metadata": {},
   "outputs": [],
   "source": []
  },
  {
   "cell_type": "code",
   "execution_count": 12,
   "metadata": {},
   "outputs": [
    {
     "data": {
      "text/plain": [
       "array([[ 0.968, -0.77 , -0.346,  0.545],\n",
       "       [-1.024,  0.362,  0.859, -0.853],\n",
       "       [-0.8  , -1.514, -0.397, -0.163],\n",
       "       [ 2.044,  2.343,  1.84 ,  0.235],\n",
       "       [-0.065, -1.432, -1.979,  1.215],\n",
       "       [ 1.057, -0.891, -1.43 ,  0.448],\n",
       "       [ 0.923, -2.963, -2.795,  2.475],\n",
       "       [-0.305, -0.703, -0.406,  0.02 ],\n",
       "       [-0.764, -0.254,  0.65 , -0.276],\n",
       "       [ 0.623, -0.123, -0.871, -0.157],\n",
       "       [-0.916,  1.273,  1.08 , -1.623]], dtype=float32)"
      ]
     },
     "execution_count": 12,
     "metadata": {},
     "output_type": "execute_result"
    }
   ],
   "source": [
    "## Use it for prediction\n",
    "model.predict(x[0])"
   ]
  },
  {
   "cell_type": "code",
   "execution_count": null,
   "metadata": {},
   "outputs": [],
   "source": []
  },
  {
   "cell_type": "code",
   "execution_count": null,
   "metadata": {},
   "outputs": [],
   "source": []
  },
  {
   "cell_type": "code",
   "execution_count": null,
   "metadata": {},
   "outputs": [],
   "source": []
  },
  {
   "cell_type": "code",
   "execution_count": null,
   "metadata": {},
   "outputs": [],
   "source": []
  },
  {
   "cell_type": "code",
   "execution_count": null,
   "metadata": {},
   "outputs": [],
   "source": [
    "def PermutationInvariant(output_dim, intra_layer_sizes, tuple_dim = 2, reduce_fun = \"mean\"): \n",
    "    \"\"\"\n",
    "    Implements a permutation invariant layer. \n",
    "    \n",
    "    Args:\n",
    "    --\n",
    "    \n",
    "    Returns:\n",
    "    --\n",
    "    \"\"\"\n",
    "    ## TODO "
   ]
  },
  {
   "cell_type": "code",
   "execution_count": 49,
   "metadata": {},
   "outputs": [],
   "source": []
  },
  {
   "cell_type": "code",
   "execution_count": null,
   "metadata": {},
   "outputs": [],
   "source": [
    "K.stack()"
   ]
  },
  {
   "cell_type": "code",
   "execution_count": 1,
   "metadata": {},
   "outputs": [
    {
     "ename": "NameError",
     "evalue": "name 'Layer' is not defined",
     "output_type": "error",
     "traceback": [
      "\u001b[1;31m---------------------------------------------------------------------------\u001b[0m",
      "\u001b[1;31mNameError\u001b[0m                                 Traceback (most recent call last)",
      "\u001b[1;32m<ipython-input-1-b1778bff184b>\u001b[0m in \u001b[0;36m<module>\u001b[1;34m()\u001b[0m\n\u001b[1;32m----> 1\u001b[1;33m \u001b[1;32mclass\u001b[0m \u001b[0mTuples\u001b[0m\u001b[1;33m(\u001b[0m\u001b[0mLayer\u001b[0m\u001b[1;33m)\u001b[0m\u001b[1;33m:\u001b[0m\u001b[1;33m\u001b[0m\u001b[0m\n\u001b[0m\u001b[0;32m      2\u001b[0m     \"\"\"\n\u001b[0;32m      3\u001b[0m     \u001b[0mStack\u001b[0m \u001b[0mof\u001b[0m \u001b[0mall\u001b[0m \u001b[0mpossible\u001b[0m \u001b[0mk\u001b[0m\u001b[1;33m-\u001b[0m\u001b[0mtuple\u001b[0m \u001b[0mcombination\u001b[0m \u001b[0mof\u001b[0m \u001b[0minputs\u001b[0m\u001b[1;33m.\u001b[0m\u001b[1;33m\u001b[0m\u001b[0m\n\u001b[0;32m      4\u001b[0m     \"\"\"\n\u001b[0;32m      5\u001b[0m \u001b[1;33m\u001b[0m\u001b[0m\n",
      "\u001b[1;31mNameError\u001b[0m: name 'Layer' is not defined"
     ]
    }
   ],
   "source": [
    "class Tuples(Layer):\n",
    "    \"\"\"\n",
    "    Stack of all possible k-tuple combination of inputs. \n",
    "    \"\"\"\n",
    "\n",
    "    def __init__(self, tuple_dim = 2, **kwargs):\n",
    "        self.tuple_dim = tuple_dim\n",
    "        super(PermutationInvariant, self).__init__(**kwargs)\n",
    "       \n",
    "    def create_indices(n, k = 2): \n",
    "        \"\"\"\n",
    "        Creates all integer valued coordinate k-tuples in k dimensional hypercube with edge size n. \n",
    "        for example n = 4, k = 2\n",
    "        returns [[0, 0], [0, 1], [0, 2], [0, 3], \n",
    "                 [1, 0], [1, 1], [1, 2], [1, 3], \n",
    "                 ... \n",
    "                 [3, 0], [3, 1], [3, 2], [3, 3]]\n",
    "\n",
    "        Args:\n",
    "        n -- A `int`, edge size of the hypercube. \n",
    "        k -- A `int`, dimension of the hypercube.\n",
    "\n",
    "        Returns:\n",
    "        indices_n_k -- A `list` of `list` of `int`. Each inner list represents coordinates of one integer point \n",
    "            in the hypercube. \n",
    "        \"\"\"\n",
    "        if k == 0: \n",
    "            indices_n_k = [[]]\n",
    "        else: \n",
    "            indices_n_k_minus_1 = create_indices(n, k-1)\n",
    "            indices_n_k = [[i] + indices_n_k_minus_1[c] for i in range(n) for c in range(n**(k-1))]\n",
    "\n",
    "        return indices_n_k\n",
    "    \n",
    "    def build(self, input_shape):\n",
    "        # Create indexing tuple \n",
    "        self.gathering_indices = create_indices(input_shape[1], self.tuple_dim)\n",
    "        super(Tuples, self).build(input_shape)  # Be sure to call this somewhere!\n",
    "\n",
    "    def call(self, x):\n",
    "        stack_of_tuples = K.map_fn(\n",
    "            fn = lambda z : \n",
    "                K.concatenate(\n",
    "                    [K.reshape(\n",
    "                        K.gather(z, i), \n",
    "                        shape = (1,-1)\n",
    "                     ) \n",
    "                     for i in self.gathering_indices\n",
    "                    ], \n",
    "                    axis = 0\n",
    "                ), \n",
    "            elems = x\n",
    "        )\n",
    "        return stack_of_tuples\n",
    "\n",
    "    def compute_output_shape(self, input_shape):\n",
    "        return (input_shape[0], input_shape[1]**tuple_dim, input_shape[2] * tuple_dim)"
   ]
  },
  {
   "cell_type": "markdown",
   "metadata": {},
   "source": [
    "input je v radcich jednotlive data \n",
    "\n",
    "input_shape[0] x input_shape[1] x input_shape[2] \n",
    "... in\n",
    "\n",
    "sloupce jsou output shape\n",
    "\n",
    "x . W"
   ]
  }
 ],
 "metadata": {
  "kernelspec": {
   "display_name": "Python 3",
   "language": "python",
   "name": "python3"
  },
  "language_info": {
   "codemirror_mode": {
    "name": "ipython",
    "version": 3
   },
   "file_extension": ".py",
   "mimetype": "text/x-python",
   "name": "python",
   "nbconvert_exporter": "python",
   "pygments_lexer": "ipython3",
   "version": "3.6.3"
  }
 },
 "nbformat": 4,
 "nbformat_minor": 2
}
